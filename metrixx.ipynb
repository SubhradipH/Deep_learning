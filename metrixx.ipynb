{
 "cells": [
  {
   "cell_type": "code",
   "execution_count": 1,
   "id": "a7886f99",
   "metadata": {},
   "outputs": [],
   "source": [
    "import numpy as np"
   ]
  },
  {
   "cell_type": "code",
   "execution_count": 2,
   "id": "ff04c7e4",
   "metadata": {},
   "outputs": [],
   "source": [
    "revnue = np.array([[180, 200, 220],[24,36,40],[12,18,20]])\n",
    "expenses = np.array([[80, 90, 100],[10, 16, 20],[8, 10, 10]])"
   ]
  },
  {
   "cell_type": "code",
   "execution_count": 3,
   "id": "b578a351",
   "metadata": {},
   "outputs": [
    {
     "data": {
      "text/plain": [
       "array([[100, 110, 120],\n",
       "       [ 14,  20,  20],\n",
       "       [  4,   8,  10]])"
      ]
     },
     "execution_count": 3,
     "metadata": {},
     "output_type": "execute_result"
    }
   ],
   "source": [
    "profit = revnue - expenses\n",
    "profit"
   ]
  },
  {
   "cell_type": "code",
   "execution_count": 5,
   "id": "a8eaae17",
   "metadata": {},
   "outputs": [],
   "source": [
    "price_per_unit = np.array([1000, 400, 1200])\n",
    "units = np.array([[30, 40, 50],[5,10,15],[2,5,7]])"
   ]
  },
  {
   "cell_type": "code",
   "execution_count": null,
   "id": "0ee7108c",
   "metadata": {},
   "outputs": [
    {
     "data": {
      "text/plain": [
       "array([[30000, 16000, 60000],\n",
       "       [ 5000,  4000, 18000],\n",
       "       [ 2000,  2000,  8400]])"
      ]
     },
     "execution_count": 6,
     "metadata": {},
     "output_type": "execute_result"
    }
   ],
   "source": [
    "price_per_unit* units # numpy broadcasting"
   ]
  },
  {
   "cell_type": "code",
   "execution_count": 8,
   "id": "01c2799d",
   "metadata": {},
   "outputs": [
    {
     "data": {
      "text/plain": [
       "array([34400, 50000, 64400])"
      ]
     },
     "execution_count": 8,
     "metadata": {},
     "output_type": "execute_result"
    }
   ],
   "source": [
    "np.dot( price_per_unit, units)"
   ]
  },
  {
   "cell_type": "markdown",
   "id": "b45bd091",
   "metadata": {},
   "source": [
    "Exercise"
   ]
  },
  {
   "cell_type": "code",
   "execution_count": 9,
   "id": "93ccc2dc",
   "metadata": {},
   "outputs": [],
   "source": [
    "revenue1=np.array([[200,220,250],[68,79,105],[110,140,180],[80,85,90]])"
   ]
  },
  {
   "cell_type": "code",
   "execution_count": 12,
   "id": "7218806d",
   "metadata": {},
   "outputs": [],
   "source": [
    "inr=revenue1 * 75"
   ]
  },
  {
   "cell_type": "code",
   "execution_count": 13,
   "id": "b766a567",
   "metadata": {},
   "outputs": [
    {
     "data": {
      "text/plain": [
       "array([[15000, 16500, 18750],\n",
       "       [ 5100,  5925,  7875],\n",
       "       [ 8250, 10500, 13500],\n",
       "       [ 6000,  6375,  6750]])"
      ]
     },
     "execution_count": 13,
     "metadata": {},
     "output_type": "execute_result"
    }
   ],
   "source": [
    "inr"
   ]
  },
  {
   "cell_type": "markdown",
   "id": "683108c3",
   "metadata": {},
   "source": [
    "Exercise2"
   ]
  },
  {
   "cell_type": "code",
   "execution_count": 14,
   "id": "d43dccf4",
   "metadata": {},
   "outputs": [],
   "source": [
    "flower = np.array([[50,60,25],[10,13,5],[40,70,52]]) "
   ]
  },
  {
   "cell_type": "code",
   "execution_count": 15,
   "id": "87442deb",
   "metadata": {},
   "outputs": [],
   "source": [
    "roses=20\n",
    "lotus=30\n",
    "sunflower=15"
   ]
  },
  {
   "cell_type": "code",
   "execution_count": 26,
   "id": "6a4c6eeb",
   "metadata": {},
   "outputs": [],
   "source": [
    "f1 = flower[0,0]*roses + flower[1,0]*lotus + flower[2,0]*sunflower  # roses + lotus + sunflowers in Month 1\n",
    "# For Month 2\n",
    "f2 = flower[0,1]*roses + flower[1,1]*lotus + flower[2,1]*sunflower\n",
    "# For Month 3\n",
    "f3 = flower[0,2]*roses + flower[1,2]*lotus + flower[2,2]*sunflower"
   ]
  },
  {
   "cell_type": "code",
   "execution_count": 27,
   "id": "005395ba",
   "metadata": {},
   "outputs": [
    {
     "data": {
      "text/plain": [
       "1900"
      ]
     },
     "execution_count": 27,
     "metadata": {},
     "output_type": "execute_result"
    }
   ],
   "source": [
    "f1"
   ]
  },
  {
   "cell_type": "code",
   "execution_count": 28,
   "id": "c36beb9b",
   "metadata": {},
   "outputs": [
    {
     "data": {
      "text/plain": [
       "2640"
      ]
     },
     "execution_count": 28,
     "metadata": {},
     "output_type": "execute_result"
    }
   ],
   "source": [
    "\n",
    "f2"
   ]
  },
  {
   "cell_type": "code",
   "execution_count": 29,
   "id": "e6297d71",
   "metadata": {},
   "outputs": [
    {
     "data": {
      "text/plain": [
       "1430"
      ]
     },
     "execution_count": 29,
     "metadata": {},
     "output_type": "execute_result"
    }
   ],
   "source": [
    "f3"
   ]
  },
  {
   "cell_type": "code",
   "execution_count": null,
   "id": "48ad35fb",
   "metadata": {},
   "outputs": [],
   "source": []
  }
 ],
 "metadata": {
  "kernelspec": {
   "display_name": "Python 3",
   "language": "python",
   "name": "python3"
  },
  "language_info": {
   "codemirror_mode": {
    "name": "ipython",
    "version": 3
   },
   "file_extension": ".py",
   "mimetype": "text/x-python",
   "name": "python",
   "nbconvert_exporter": "python",
   "pygments_lexer": "ipython3",
   "version": "3.10.0"
  }
 },
 "nbformat": 4,
 "nbformat_minor": 5
}
