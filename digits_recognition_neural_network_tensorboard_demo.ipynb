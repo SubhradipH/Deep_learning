{
 "cells": [
  {
   "cell_type": "markdown",
   "metadata": {},
   "source": [
    "<h2 style=\"color:blue\" align=\"center\">Tensorboard demo using handwritten digits classification using neural network</h2>"
   ]
  },
  {
   "cell_type": "markdown",
   "metadata": {},
   "source": [
    "In this notebook we will classify handwritten digits using a simple neural network which has only input and output layers. We will than add a hidden layer and see how the performance of the model improves"
   ]
  },
  {
   "cell_type": "code",
   "execution_count": 14,
   "metadata": {},
   "outputs": [],
   "source": [
    "import tensorflow as tf\n",
    "from tensorflow import keras\n",
    "import matplotlib.pyplot as plt\n",
    "import numpy as np"
   ]
  },
  {
   "cell_type": "code",
   "execution_count": 15,
   "metadata": {},
   "outputs": [],
   "source": [
    "(X_train, y_train) , (X_test, y_test) = keras.datasets.mnist.load_data()"
   ]
  },
  {
   "cell_type": "code",
   "execution_count": 16,
   "metadata": {},
   "outputs": [
    {
     "data": {
      "text/plain": [
       "60000"
      ]
     },
     "execution_count": 16,
     "metadata": {},
     "output_type": "execute_result"
    }
   ],
   "source": [
    "len(X_train)"
   ]
  },
  {
   "cell_type": "code",
   "execution_count": 17,
   "metadata": {},
   "outputs": [
    {
     "data": {
      "text/plain": [
       "10000"
      ]
     },
     "execution_count": 17,
     "metadata": {},
     "output_type": "execute_result"
    }
   ],
   "source": [
    "len(X_test)"
   ]
  },
  {
   "cell_type": "code",
   "execution_count": 18,
   "metadata": {},
   "outputs": [
    {
     "data": {
      "text/plain": [
       "(28, 28)"
      ]
     },
     "execution_count": 18,
     "metadata": {},
     "output_type": "execute_result"
    }
   ],
   "source": [
    "X_train[0].shape"
   ]
  },
  {
   "cell_type": "code",
   "execution_count": 19,
   "metadata": {},
   "outputs": [
    {
     "data": {
      "text/plain": [
       "<matplotlib.image.AxesImage at 0x1fc1d30f9d0>"
      ]
     },
     "execution_count": 19,
     "metadata": {},
     "output_type": "execute_result"
    },
    {
     "data": {
      "image/png": "[encoded data removed]",
      "text/plain": [
       "<Figure size 480x480 with 1 Axes>"
      ]
     },
     "metadata": {},
     "output_type": "display_data"
    }
   ],
   "source": [
    "plt.matshow(X_train[0])"
   ]
  },
  {
   "cell_type": "code",
   "execution_count": 20,
   "metadata": {},
   "outputs": [
    {
     "data": {
      "text/plain": [
       "5"
      ]
     },
     "execution_count": 20,
     "metadata": {},
     "output_type": "execute_result"
    }
   ],
   "source": [
    "y_train[0]"
   ]
  },
  {
   "cell_type": "code",
   "execution_count": 21,
   "metadata": {},
   "outputs": [],
   "source": [
    "X_train = X_train / 255\n",
    "X_test = X_test / 255"
   ]
  },
  {
   "cell_type": "code",
   "execution_count": 22,
   "metadata": {},
   "outputs": [],
   "source": [
    "X_train_flattened = X_train.reshape(len(X_train), 28*28)\n",
    "X_test_flattened = X_test.reshape(len(X_test), 28*28)"
   ]
  },
  {
   "cell_type": "code",
   "execution_count": 23,
   "metadata": {},
   "outputs": [
    {
     "data": {
      "text/plain": [
       "(60000, 784)"
      ]
     },
     "execution_count": 23,
     "metadata": {},
     "output_type": "execute_result"
    }
   ],
   "source": [
    "X_train_flattened.shape"
   ]
  },
  {
   "cell_type": "markdown",
   "metadata": {},
   "source": [
    "<h3 style='color:purple'>Using Flatten layer so that we don't have to call .reshape on input dataset</h3>"
   ]
  },
  {
   "cell_type": "code",
   "execution_count": 24,
   "metadata": {
    "scrolled": false
   },
   "outputs": [
    {
     "name": "stdout",
     "output_type": "stream",
     "text": [
      "Epoch 1/5\n",
      "\u001b[1m1875/1875\u001b[0m \u001b[32m━━━━━━━━━━━━━━━━━━━━\u001b[0m\u001b[37m\u001b[0m \u001b[1m6s\u001b[0m 3ms/step - accuracy: 0.8715 - loss: 0.4540\n",
      "Epoch 2/5\n",
      "\u001b[1m1875/1875\u001b[0m \u001b[32m━━━━━━━━━━━━━━━━━━━━\u001b[0m\u001b[37m\u001b[0m \u001b[1m5s\u001b[0m 3ms/step - accuracy: 0.9636 - loss: 0.1269\n",
      "Epoch 3/5\n",
      "\u001b[1m1875/1875\u001b[0m \u001b[32m━━━━━━━━━━━━━━━━━━━━\u001b[0m\u001b[37m\u001b[0m \u001b[1m5s\u001b[0m 3ms/step - accuracy: 0.9739 - loss: 0.0845\n",
      "Epoch 4/5\n",
      "\u001b[1m1875/1875\u001b[0m \u001b[32m━━━━━━━━━━━━━━━━━━━━\u001b[0m\u001b[37m\u001b[0m \u001b[1m6s\u001b[0m 3ms/step - accuracy: 0.9811 - loss: 0.0634\n",
      "Epoch 5/5\n",
      "\u001b[1m1875/1875\u001b[0m \u001b[32m━━━━━━━━━━━━━━━━━━━━\u001b[0m\u001b[37m\u001b[0m \u001b[1m6s\u001b[0m 3ms/step - accuracy: 0.9849 - loss: 0.0496\n"
     ]
    },
    {
     "data": {
      "text/plain": [
       "<keras.src.callbacks.history.History at 0x1fc2167d1e0>"
      ]
     },
     "execution_count": 24,
     "metadata": {},
     "output_type": "execute_result"
    }
   ],
   "source": [
    "model = keras.Sequential([\n",
    "    keras.layers.Flatten(input_shape=(28, 28)),\n",
    "    keras.layers.Dense(100, activation='relu'),\n",
    "    keras.layers.Dense(10, activation='sigmoid')\n",
    "])\n",
    "\n",
    "model.compile(optimizer='adam',\n",
    "              loss='sparse_categorical_crossentropy',\n",
    "              metrics=['accuracy'])\n",
    "\n",
    "tb_callback = tf.keras.callbacks.TensorBoard(log_dir=\"logs/\", histogram_freq=1)\n",
    "\n",
    "model.fit(X_train, y_train, epochs=5, callbacks=[tb_callback])"
   ]
  },
  {
   "cell_type": "code",
   "execution_count": 25,
   "metadata": {},
   "outputs": [],
   "source": [
    "#%load_ext tensorboard\n",
    "#%tensorboard --logdir logs/fit\n",
    "\n",
    "# if we use these to above command we can see the tensorboard in jupyter notebook\n",
    "\n",
    "#but if we use this command in terminal we can see the tensorboard in browser\n",
    "# tensorboard --logdir logs/ and we prefer to use this command"
   ]
  },
  {
   "cell_type": "markdown",
   "metadata": {},
   "source": [
    "Either run above inline magic or go to git bash or your command prompt and type below to run it,\n",
    "`tensorboard --logdir logs/`\n",
    "This will launch tensorboard at this url which you can open in your browser `http://localhost:6006/`"
   ]
  },
  {
   "cell_type": "code",
   "execution_count": 26,
   "metadata": {},
   "outputs": [
    {
     "data": {
      "text/plain": [
       "[array([[-0.06120357, -0.01789742,  0.05677536, ...,  0.06864882,\n",
       "          0.06332006, -0.04400551],\n",
       "        [ 0.06891268,  0.0579648 ,  0.07527302, ...,  0.07326032,\n",
       "         -0.03278627,  0.03131945],\n",
       "        [ 0.04469644,  0.06686275,  0.00629019, ...,  0.03616708,\n",
       "         -0.04385255,  0.00280064],\n",
       "        ...,\n",
       "        [-0.01529892, -0.01062269,  0.0690698 , ...,  0.03541003,\n",
       "          0.06934546,  0.00918023],\n",
       "        [-0.01624854,  0.03707669, -0.07150181, ..., -0.07386865,\n",
       "         -0.01294775,  0.06684875],\n",
       "        [ 0.06191009,  0.03776774, -0.07563359, ..., -0.03610878,\n",
       "          0.04431532, -0.07036863]], dtype=float32),\n",
       " array([-0.0585635 , -0.03134879, -0.02329326,  0.02364401,  0.08184721,\n",
       "         0.02221224, -0.12536304, -0.11235888,  0.08507391,  0.11155903,\n",
       "        -0.00438776,  0.08411661,  0.02476235,  0.03816937,  0.09285065,\n",
       "         0.07913869,  0.05822065,  0.01795954,  0.05660965,  0.04549098,\n",
       "         0.00232608,  0.03398034, -0.14089972,  0.06645981, -0.06199615,\n",
       "        -0.10802959,  0.07266387, -0.0272395 ,  0.01250112,  0.06025374,\n",
       "        -0.02904623,  0.04750923, -0.02288338,  0.01041474, -0.04077811,\n",
       "         0.12415339, -0.01605615,  0.11518621,  0.15113947, -0.01354767,\n",
       "         0.2035768 , -0.079347  ,  0.03648167,  0.1270933 , -0.00432217,\n",
       "         0.19562145, -0.16315155,  0.02313191,  0.03423076,  0.02435221,\n",
       "        -0.05876719,  0.05507157, -0.0510778 ,  0.09861568,  0.00128916,\n",
       "         0.01129651,  0.00739315,  0.02725933,  0.07086892,  0.08892149,\n",
       "         0.01813733,  0.15750512, -0.10226969,  0.01728469,  0.05470454,\n",
       "        -0.14536221,  0.01104683,  0.03666627, -0.03079063,  0.2770647 ,\n",
       "         0.04558527,  0.03729134, -0.04431959, -0.03808099, -0.00482319,\n",
       "         0.00975986,  0.1459795 , -0.05189409,  0.05715598, -0.00446   ,\n",
       "         0.00595563,  0.1794378 ,  0.06317435,  0.19011408,  0.10640402,\n",
       "         0.08143057,  0.03831382,  0.09750382, -0.01135627,  0.11367999,\n",
       "         0.04759186,  0.08091974, -0.02238356,  0.16749753,  0.20350066,\n",
       "        -0.09309109, -0.16972785,  0.09777166,  0.08034707,  0.20381585],\n",
       "       dtype=float32),\n",
       " array([[-1.05588131e-01,  5.05952895e-01, -4.82445955e-01,\n",
       "         -8.04571062e-02,  1.31125182e-01,  4.86378968e-02,\n",
       "          7.16115162e-02,  3.11415434e-01, -3.23955506e-01,\n",
       "          2.04602972e-01],\n",
       "        [ 1.92417473e-01,  1.45013809e-01,  2.28821620e-01,\n",
       "          2.71083862e-01, -7.38897622e-01, -4.10212815e-01,\n",
       "          1.06143095e-01,  3.40439767e-01, -1.35447666e-01,\n",
       "         -1.33454010e-01],\n",
       "        [-4.56557304e-01,  2.57040232e-01,  1.54739842e-01,\n",
       "          1.29719436e-01,  1.30397201e-01, -3.02784950e-01,\n",
       "         -1.06302416e-03, -8.27515870e-02,  8.96185338e-02,\n",
       "         -2.04266474e-01],\n",
       "        [-1.72846511e-01, -6.54640794e-01, -7.04539269e-02,\n",
       "          5.71110733e-02, -2.82614511e-02, -3.93283516e-02,\n",
       "          3.22973192e-01,  1.67067006e-01,  2.51828909e-01,\n",
       "          1.86824098e-01],\n",
       "        [ 3.71389955e-01, -3.59071702e-01,  3.35686095e-02,\n",
       "         -5.81639856e-02, -4.85760123e-01, -1.12000272e-01,\n",
       "         -3.46962512e-01,  2.82375365e-01,  4.57774177e-02,\n",
       "          1.24056309e-01],\n",
       "        [-1.73466131e-01, -4.79900777e-01, -1.26152486e-01,\n",
       "          1.82656348e-01, -5.13811782e-02,  2.95034498e-01,\n",
       "          4.63018045e-02,  5.29957227e-02,  2.22395714e-02,\n",
       "          1.66274562e-01],\n",
       "        [ 2.97436826e-02,  1.80560991e-01, -2.65372545e-01,\n",
       "          1.23640820e-01, -3.58339339e-01, -6.19382458e-03,\n",
       "         -6.67663813e-02, -3.37459922e-01,  2.14574471e-01,\n",
       "         -1.11862674e-01],\n",
       "        [ 1.06833227e-01, -2.46653091e-02,  1.11875452e-01,\n",
       "          3.99813540e-02, -2.04659909e-01, -3.65892738e-01,\n",
       "          2.17423320e-01, -5.44256330e-01,  6.49348795e-02,\n",
       "          1.41855001e-01],\n",
       "        [ 8.89037699e-02, -3.22678894e-01,  2.57473383e-02,\n",
       "         -5.63820004e-01,  3.08484375e-01, -5.02613127e-01,\n",
       "         -5.10685742e-02, -9.04670954e-02, -3.28703523e-01,\n",
       "          1.57661036e-01],\n",
       "        [ 2.51062244e-01, -3.63147616e-01,  4.99249473e-02,\n",
       "          1.08279504e-01, -1.46403490e-02,  1.15532123e-01,\n",
       "          2.13096991e-01,  9.37407315e-02,  1.86843842e-01,\n",
       "          3.48878615e-02],\n",
       "        [-2.24895254e-01,  7.31324255e-02,  7.84763470e-02,\n",
       "          9.40395147e-02,  1.02540448e-01, -1.17440484e-01,\n",
       "         -4.73814219e-01, -1.65529288e-02,  2.42069453e-01,\n",
       "          1.36417285e-01],\n",
       "        [-5.16119540e-01, -9.36416537e-02,  3.87156196e-02,\n",
       "         -1.46116227e-01,  5.03600776e-01, -6.82889819e-01,\n",
       "          3.77101630e-01,  3.04927468e-01,  4.97240573e-01,\n",
       "         -4.90912795e-01],\n",
       "        [-3.39361787e-01, -2.76000023e-01, -1.10267237e-01,\n",
       "          2.18479216e-01,  1.23145774e-01, -8.79310742e-02,\n",
       "         -2.15328366e-01,  1.98227718e-01, -2.16036700e-02,\n",
       "          6.13493212e-02],\n",
       "        [ 2.35845834e-01, -1.27971888e-01,  1.12702236e-01,\n",
       "         -9.85185057e-02,  7.14494586e-02,  4.96248156e-02,\n",
       "          2.92799264e-01, -3.00335199e-01,  9.75287519e-03,\n",
       "         -5.25684655e-01],\n",
       "        [-3.50544333e-01,  5.42962849e-01, -6.38039529e-01,\n",
       "         -6.84054554e-01,  1.41019166e-01,  4.64311540e-02,\n",
       "         -4.56440330e-01,  3.86286110e-01, -4.94205594e-01,\n",
       "          2.84823596e-01],\n",
       "        [-3.19228590e-01,  2.18643457e-01,  3.46499801e-01,\n",
       "         -3.67729366e-01,  1.40936941e-01, -1.52485192e-01,\n",
       "          1.47736877e-01,  6.29195869e-02, -3.53851229e-01,\n",
       "         -5.45188487e-01],\n",
       "        [-2.50226408e-01,  4.64373194e-02,  3.75927150e-01,\n",
       "         -2.31464222e-01,  1.47379935e-03, -2.65537769e-01,\n",
       "          1.99193507e-01, -3.34669769e-01, -3.97473872e-01,\n",
       "          2.38476291e-01],\n",
       "        [-2.20328838e-01,  2.60466009e-01,  5.63555062e-02,\n",
       "         -4.44959700e-01,  1.81152314e-01, -1.58992872e-01,\n",
       "         -5.80221236e-01,  4.17247802e-01, -6.79075658e-01,\n",
       "          1.40625030e-01],\n",
       "        [-9.69526470e-01, -4.93958563e-01, -1.64123654e-01,\n",
       "          4.25680310e-01,  3.41949791e-01, -9.16594546e-03,\n",
       "         -8.67971480e-01, -8.77795368e-02, -2.33098254e-01,\n",
       "          3.41390967e-01],\n",
       "        [-2.11971357e-01, -1.59760296e-01, -1.15723386e-01,\n",
       "         -1.94117725e-01,  2.53801793e-01, -2.42335171e-01,\n",
       "          1.94511004e-02, -6.24543764e-02,  2.40730122e-03,\n",
       "          1.95799097e-01],\n",
       "        [-2.52897650e-01, -2.10070431e-01,  2.43040949e-01,\n",
       "          3.50530297e-01, -7.09299982e-01, -2.02027842e-01,\n",
       "          1.96651608e-01,  1.98923245e-01, -9.08851549e-02,\n",
       "          3.16721648e-01],\n",
       "        [ 1.40661791e-01, -6.64086282e-01, -5.10159552e-01,\n",
       "          7.87882358e-02, -5.11698127e-02, -3.39832716e-02,\n",
       "          8.80474970e-02, -2.19623551e-01,  2.31418326e-01,\n",
       "          4.14699465e-01],\n",
       "        [-3.74880105e-01,  2.83601820e-01, -3.89118791e-02,\n",
       "          6.26184821e-01, -3.74468058e-01, -2.20031977e-01,\n",
       "         -4.94568013e-02,  1.06567450e-01, -5.90626359e-01,\n",
       "         -6.65897876e-02],\n",
       "        [-6.58908308e-01,  2.03015745e-01, -4.48990405e-01,\n",
       "         -3.37939024e-01,  1.22128591e-01,  2.68269368e-02,\n",
       "         -3.39563966e-01,  3.60121667e-01, -8.39090198e-02,\n",
       "          1.91213265e-01],\n",
       "        [ 6.90581426e-02,  6.80896491e-02,  1.12662591e-01,\n",
       "          2.34441027e-01, -2.69045681e-01, -1.84635036e-02,\n",
       "          1.46238714e-01, -3.56644839e-01, -9.45503637e-02,\n",
       "          1.26658808e-02],\n",
       "        [-9.41424072e-02,  5.17434180e-01, -2.53694832e-01,\n",
       "          1.40830442e-01,  6.06747568e-01, -5.45043647e-01,\n",
       "          1.37697488e-01,  6.68787584e-02, -1.18698478e-01,\n",
       "         -4.38936472e-01],\n",
       "        [ 1.30193934e-01, -2.33897686e-01, -4.31332707e-01,\n",
       "          2.64340580e-01,  1.29940599e-01,  9.23314244e-02,\n",
       "          1.61314681e-01,  2.40688920e-01, -3.43660891e-01,\n",
       "         -3.56923044e-01],\n",
       "        [-1.85345173e-01, -1.51590863e-02, -5.37161529e-02,\n",
       "         -3.66172008e-02,  1.04627371e-01, -2.66122907e-01,\n",
       "         -7.92513192e-02,  6.53140396e-02,  1.60285965e-01,\n",
       "         -6.59285337e-02],\n",
       "        [ 2.86991477e-01,  2.16425851e-01,  3.89379531e-01,\n",
       "         -1.71118915e-01,  2.04020053e-01, -6.93974495e-01,\n",
       "         -4.05916244e-01, -8.60935226e-02, -1.26010910e-01,\n",
       "          1.78976923e-01],\n",
       "        [ 2.96340704e-01, -8.27146769e-02,  3.02060604e-01,\n",
       "         -3.76382709e-01,  2.98217982e-01, -1.29776746e-01,\n",
       "          6.43808469e-02, -1.42193809e-01,  2.66663849e-01,\n",
       "         -4.02738720e-01],\n",
       "        [-8.61806571e-01,  2.76174337e-01, -3.48332167e-01,\n",
       "          9.06830877e-02, -2.38982663e-01,  5.22025228e-01,\n",
       "         -7.60998547e-01, -2.34537557e-01, -4.86942947e-01,\n",
       "          2.48351067e-01],\n",
       "        [-1.69316784e-01, -2.92093933e-01, -1.78430513e-01,\n",
       "          1.07104681e-03, -1.18810259e-01, -2.63858847e-02,\n",
       "         -4.54461686e-02,  2.18176529e-01,  1.51076674e-01,\n",
       "          1.68600023e-01],\n",
       "        [ 1.02527089e-01, -3.92535746e-01,  1.94268748e-01,\n",
       "          4.52765852e-01, -6.83591142e-02,  2.45545328e-01,\n",
       "          9.48403105e-02, -4.46467986e-03, -5.15534222e-01,\n",
       "         -5.37763774e-01],\n",
       "        [-3.04106355e-01,  1.29895121e-01, -1.24086767e-01,\n",
       "          7.18878359e-02, -1.27865896e-01, -1.85549751e-01,\n",
       "         -8.71779382e-01,  1.65637523e-01, -1.26318276e-01,\n",
       "          1.93761095e-01],\n",
       "        [ 9.76074114e-02,  1.97582632e-01, -1.80303305e-02,\n",
       "         -5.44282794e-01,  9.22079384e-02, -1.86085090e-01,\n",
       "          3.32952350e-01, -3.27329636e-02,  2.58799165e-01,\n",
       "         -4.83562827e-01],\n",
       "        [ 8.50899592e-02, -4.63139355e-01,  3.91597599e-02,\n",
       "         -4.12826508e-01,  9.03398991e-02,  1.79501563e-01,\n",
       "          4.30636555e-01, -5.57924628e-01,  1.16234096e-02,\n",
       "          7.19620734e-02],\n",
       "        [-3.13616954e-02, -1.13187619e-02, -9.60295498e-01,\n",
       "          1.43700838e-01,  2.15936631e-01, -9.54532102e-02,\n",
       "          3.30901630e-02, -2.37099037e-01,  7.06249326e-02,\n",
       "          3.20096523e-01],\n",
       "        [-1.28633797e-01,  1.83306262e-01,  3.84248793e-01,\n",
       "         -5.83682895e-01,  2.55755424e-01, -1.06518425e-01,\n",
       "          3.58488977e-01,  3.34447533e-01, -1.03818230e-01,\n",
       "          2.17392251e-01],\n",
       "        [-2.95988917e-01,  7.74587691e-02, -3.73300999e-01,\n",
       "         -8.04184854e-01, -4.79316665e-03,  1.88406572e-01,\n",
       "          2.73220956e-01, -2.85073578e-01,  5.16771898e-02,\n",
       "          5.62384212e-03],\n",
       "        [-6.99292064e-01,  4.73591000e-01,  4.61599052e-01,\n",
       "         -2.14036241e-01, -3.79136056e-01, -3.57220560e-01,\n",
       "          1.43367633e-01,  4.69215736e-02,  3.50303799e-01,\n",
       "         -6.69544041e-01],\n",
       "        [ 5.79574984e-03, -2.76158094e-01,  3.01502850e-02,\n",
       "         -1.02637358e-01,  6.71290904e-02,  1.23388074e-01,\n",
       "          1.79240882e-01, -4.74114418e-01,  1.83814123e-01,\n",
       "         -1.74564391e-01],\n",
       "        [-3.45244527e-01,  1.17805108e-01,  1.84962481e-01,\n",
       "          3.08334589e-01,  3.98740619e-01, -3.75595719e-01,\n",
       "         -7.37019852e-02,  2.76305098e-02,  2.12016702e-01,\n",
       "         -3.76809269e-01],\n",
       "        [ 2.66114086e-01, -2.10838363e-01, -4.09528464e-02,\n",
       "          5.75353205e-02, -6.84485495e-01,  1.64334700e-01,\n",
       "         -2.60451853e-01, -3.23666818e-02,  1.08754821e-01,\n",
       "         -9.99223664e-02],\n",
       "        [-2.08211437e-01,  1.77937776e-01,  5.09408474e-01,\n",
       "          3.17799449e-02, -1.99761674e-01,  4.19588000e-01,\n",
       "         -3.24101895e-01,  2.50051498e-01, -2.13942960e-01,\n",
       "         -2.98602879e-01],\n",
       "        [-9.17064324e-02,  2.62535423e-01,  3.64104748e-01,\n",
       "          6.11193299e-01, -1.45767227e-01, -7.74364054e-01,\n",
       "         -4.57883626e-01,  1.48139879e-01, -2.67566442e-02,\n",
       "         -9.70332325e-02],\n",
       "        [ 1.37185439e-01, -3.76757652e-01, -3.80113691e-01,\n",
       "         -3.29996765e-01,  3.17735076e-01,  1.34390861e-01,\n",
       "          5.73951416e-02,  2.89291710e-01, -4.98067945e-01,\n",
       "         -2.43888617e-01],\n",
       "        [ 1.36614293e-01, -1.17083840e-01, -3.34539749e-02,\n",
       "          1.58860445e-01, -2.04460308e-01, -6.65988540e-03,\n",
       "         -1.29906654e-01, -3.02356780e-01,  6.12609321e-04,\n",
       "          7.63573870e-02],\n",
       "        [ 1.93216112e-02, -2.66002387e-01, -5.43318912e-02,\n",
       "         -6.98460862e-02, -2.38716438e-01, -1.20538197e-01,\n",
       "         -1.42552376e-01, -2.92070031e-01,  1.05028138e-01,\n",
       "         -1.25894740e-01],\n",
       "        [-1.18648082e-01, -6.49676621e-01, -7.98536167e-02,\n",
       "         -4.11822289e-01,  2.51201093e-01,  2.37966254e-02,\n",
       "         -4.81245965e-01, -2.12654918e-01,  2.38725707e-01,\n",
       "          2.21625239e-01],\n",
       "        [-3.12636375e-01,  1.23575889e-01,  4.25868034e-01,\n",
       "         -1.65047839e-01, -2.10451052e-01,  2.37379540e-02,\n",
       "         -4.11102585e-02,  3.13289613e-01,  1.39027342e-01,\n",
       "         -8.81651044e-01],\n",
       "        [-3.35781246e-01,  9.38801244e-02,  4.09825027e-01,\n",
       "          2.82529473e-01, -6.42661154e-01, -2.00961143e-01,\n",
       "         -4.87935305e-01,  5.82238734e-01, -1.20360151e-01,\n",
       "         -1.03572309e+00],\n",
       "        [-3.88787054e-02, -1.48226812e-01, -1.64701253e-01,\n",
       "          1.00255162e-01,  1.06026180e-01,  9.45777372e-02,\n",
       "          1.10272281e-01,  9.06805769e-02,  2.30843231e-01,\n",
       "         -3.22148986e-02],\n",
       "        [-4.25052404e-01,  7.22863525e-02, -4.44650799e-01,\n",
       "         -2.92019039e-01, -9.91388440e-01,  5.19804835e-01,\n",
       "          2.37403363e-01,  3.23802501e-01,  5.30222319e-02,\n",
       "         -1.95096880e-01],\n",
       "        [-5.86110391e-02,  3.23265612e-01,  1.27631128e-01,\n",
       "         -3.34255062e-02,  2.47613356e-01, -5.32531619e-01,\n",
       "          5.68267703e-02,  1.65168434e-01, -5.92342913e-01,\n",
       "          3.49628739e-02],\n",
       "        [-1.90103114e-01,  2.64694333e-01,  1.85686782e-01,\n",
       "          1.62935495e-01, -4.65208024e-01,  2.68279672e-01,\n",
       "          2.18737543e-01, -4.28276896e-01, -8.06168094e-02,\n",
       "         -1.23427562e-01],\n",
       "        [ 1.64979041e-01, -3.71821076e-01,  3.74935009e-02,\n",
       "          3.08063440e-02,  2.64228974e-02, -1.90658852e-01,\n",
       "         -2.62953818e-01,  2.22162098e-01, -9.69301760e-02,\n",
       "         -1.96478516e-01],\n",
       "        [ 2.78495938e-01,  8.29186440e-02,  2.20509470e-01,\n",
       "         -4.55315821e-02, -5.59348438e-04, -1.38539553e-01,\n",
       "          9.40827094e-03, -3.91518027e-01,  1.61619991e-01,\n",
       "         -2.20474571e-01],\n",
       "        [-4.57170069e-01,  2.36392066e-01, -1.76144958e-01,\n",
       "          1.19411647e-02, -6.44232146e-03, -1.06047526e-01,\n",
       "          2.29948863e-01,  1.71606883e-01,  2.03247264e-01,\n",
       "         -3.86699617e-01],\n",
       "        [ 4.64873435e-03,  4.67097871e-02,  2.33240500e-01,\n",
       "         -9.49810892e-02, -7.72112548e-01,  1.61275774e-01,\n",
       "         -1.91837642e-02,  7.71505088e-02,  9.30931643e-02,\n",
       "         -1.15016356e-01],\n",
       "        [ 3.56684983e-01, -3.96546051e-02,  3.76459926e-01,\n",
       "          7.20155314e-02, -6.20029449e-01,  8.73390511e-02,\n",
       "         -2.47261316e-01,  1.16603352e-01,  1.51474066e-02,\n",
       "         -1.66839376e-01],\n",
       "        [-4.88327220e-02, -9.06828791e-02,  1.82467714e-01,\n",
       "          1.49589144e-02, -1.69296086e-01, -1.50872376e-02,\n",
       "         -1.37819022e-01, -2.91904300e-01,  1.81721926e-01,\n",
       "          1.74966544e-01],\n",
       "        [-1.57566443e-01,  8.47922042e-02,  2.75130242e-01,\n",
       "         -1.34707272e-01, -8.74317512e-02,  3.05528496e-03,\n",
       "          1.99851945e-01, -4.47176009e-01,  6.15681298e-02,\n",
       "         -3.65262002e-01],\n",
       "        [-4.68530267e-01, -2.66963959e-01, -5.32884419e-01,\n",
       "          6.83189109e-02, -3.52184027e-01,  5.60024440e-01,\n",
       "          2.36359105e-01, -8.63485560e-02,  2.58210510e-01,\n",
       "          4.35271114e-02],\n",
       "        [-4.93658513e-01, -6.61268383e-02, -5.69810808e-01,\n",
       "          4.67259258e-01, -1.39930043e-02,  4.66885298e-01,\n",
       "         -4.20593619e-01, -4.46927428e-01, -6.75245702e-01,\n",
       "          4.01073158e-01],\n",
       "        [-2.74914593e-01,  2.37228572e-01,  1.93939462e-01,\n",
       "         -1.50172785e-01,  1.04414575e-01,  4.01997447e-01,\n",
       "         -3.71635348e-01,  3.15747380e-01, -4.27321106e-01,\n",
       "          2.27163851e-01],\n",
       "        [ 2.52504110e-01,  2.65950449e-02,  2.84729838e-01,\n",
       "          9.81788933e-02, -4.91416246e-01, -4.79135334e-01,\n",
       "         -3.28943044e-01, -1.39767662e-01, -2.36539990e-02,\n",
       "          2.28573531e-01],\n",
       "        [ 1.77632615e-01, -2.93805391e-01, -1.01549588e-01,\n",
       "          2.22368702e-01,  2.01090276e-02,  1.02044202e-01,\n",
       "         -1.74844518e-01,  1.18978977e-01,  2.55114734e-01,\n",
       "          2.18158185e-01],\n",
       "        [-5.74204743e-01,  1.96081534e-01, -3.66778933e-02,\n",
       "         -7.70686567e-02,  3.05640767e-03,  1.72464833e-01,\n",
       "          8.58904049e-02, -5.50654948e-01,  1.52708635e-01,\n",
       "         -8.04978535e-02],\n",
       "        [ 2.42542833e-01,  1.03163943e-01,  1.44496188e-01,\n",
       "         -2.34180883e-01,  4.40366790e-02, -5.90974987e-01,\n",
       "         -1.40557960e-01,  1.31131858e-01, -3.41785587e-02,\n",
       "          9.60387811e-02],\n",
       "        [ 6.92863092e-02, -4.68406826e-01,  4.92069960e-01,\n",
       "          1.05194049e-02, -9.59185064e-02,  3.97832453e-01,\n",
       "         -4.39454228e-01,  1.70707837e-01, -5.88650048e-01,\n",
       "         -3.52522135e-01],\n",
       "        [-6.10936224e-01,  7.28810430e-02, -1.84636101e-01,\n",
       "         -3.32660019e-01,  3.34983885e-01, -4.50344205e-01,\n",
       "         -5.39360046e-01,  3.35665077e-01,  1.01714447e-01,\n",
       "         -1.80735484e-01],\n",
       "        [ 1.43376395e-01, -7.86225617e-01, -2.56973803e-01,\n",
       "         -4.02111739e-01,  1.64732605e-01,  2.85906374e-01,\n",
       "          2.88821876e-01, -5.70379682e-02,  3.14546973e-01,\n",
       "          8.95041376e-02],\n",
       "        [ 3.10118258e-01, -2.38167658e-01, -5.39898753e-01,\n",
       "         -2.68810540e-01,  2.00450927e-01, -1.77308992e-01,\n",
       "          4.33306426e-01,  4.97217756e-03, -5.85370548e-02,\n",
       "          2.82933433e-02],\n",
       "        [ 1.89349145e-01, -4.60423559e-01,  1.04270354e-01,\n",
       "          1.94359303e-01, -3.32237005e-01, -5.60958982e-02,\n",
       "          1.80687889e-01,  1.50246084e-01, -3.90368730e-01,\n",
       "          4.81856875e-02],\n",
       "        [-4.22625780e-01,  3.79163295e-01,  9.29024965e-02,\n",
       "          1.07846215e-01,  4.63047385e-01,  1.48101494e-01,\n",
       "         -3.00895214e-01,  3.69541824e-01, -2.48034075e-01,\n",
       "         -7.26578534e-01],\n",
       "        [ 1.87483415e-01, -1.57468870e-01, -2.25197729e-02,\n",
       "         -1.89657182e-01, -4.38940227e-02, -4.38901871e-01,\n",
       "         -1.51438951e-01,  2.82680809e-01, -9.24834013e-02,\n",
       "          1.11802109e-01],\n",
       "        [ 8.55497345e-02, -2.79265791e-01, -2.11478904e-01,\n",
       "         -3.22181463e-01,  9.46182534e-02,  2.97257721e-01,\n",
       "         -3.90783548e-01,  2.11135268e-01, -6.01019040e-02,\n",
       "          2.36351162e-01],\n",
       "        [ 7.06648380e-02,  2.09374920e-01,  1.95028007e-01,\n",
       "          2.52403319e-01,  4.37396049e-01, -7.03110456e-01,\n",
       "         -2.87720203e-01,  3.20333317e-02,  8.87006447e-02,\n",
       "         -2.77393311e-01],\n",
       "        [-2.82234371e-01, -6.84355050e-02, -7.78061375e-02,\n",
       "         -5.60864732e-02, -2.94145234e-02, -1.28794059e-01,\n",
       "         -4.86998439e-01,  5.84224649e-02,  5.02934419e-02,\n",
       "          1.20217875e-01],\n",
       "        [-4.49492127e-01,  1.90798953e-01,  2.03090191e-01,\n",
       "          4.92657393e-01, -4.20520961e-01, -5.76183319e-01,\n",
       "         -4.35869396e-01,  2.11117402e-01, -4.29291040e-01,\n",
       "         -4.77712810e-01],\n",
       "        [ 1.98316574e-01, -9.64972079e-02,  1.04160637e-01,\n",
       "          1.77338511e-01, -6.04375780e-01,  9.97102037e-02,\n",
       "         -6.31256923e-02, -4.24839795e-01,  6.50370941e-02,\n",
       "          9.89802629e-02],\n",
       "        [ 1.41559884e-01, -8.19738209e-02,  1.06353022e-01,\n",
       "         -3.60836476e-01, -3.68906289e-01,  7.55900741e-02,\n",
       "          2.11172625e-01, -3.79349381e-01, -7.72930011e-02,\n",
       "         -8.25154185e-02],\n",
       "        [-1.29927710e-01, -1.22996897e-01,  6.72938451e-02,\n",
       "         -2.75922194e-02, -3.83423299e-01,  1.47948131e-01,\n",
       "          1.26031861e-01,  2.35240132e-01,  7.47084767e-02,\n",
       "         -6.63505852e-01],\n",
       "        [ 1.43672526e-01,  3.54996115e-01,  2.48332039e-01,\n",
       "         -5.74141294e-02, -2.10145429e-01, -6.10031448e-02,\n",
       "          2.25715503e-01,  3.31754416e-01, -4.69015867e-01,\n",
       "         -5.29065907e-01],\n",
       "        [ 5.65974236e-01,  3.41042072e-01,  2.47430027e-01,\n",
       "         -6.80772603e-01, -6.44316599e-02, -1.82283878e-01,\n",
       "         -2.68359810e-01,  1.08393855e-01, -7.35185325e-01,\n",
       "          1.86153799e-01],\n",
       "        [ 2.27913782e-01, -5.58835983e-01, -2.37690620e-02,\n",
       "          2.01192558e-01, -2.25948985e-03, -2.53565669e-01,\n",
       "          3.24058741e-01, -5.95314009e-03, -5.95692873e-01,\n",
       "          2.46527985e-01],\n",
       "        [-3.47495973e-01,  3.22612911e-01, -3.61329228e-01,\n",
       "          2.38436699e-01,  2.68306255e-01,  1.57164067e-01,\n",
       "          2.12384209e-01, -4.28010851e-01, -1.68139130e-01,\n",
       "          1.50339797e-01],\n",
       "        [-5.68856955e-01,  5.55932801e-03,  1.52532637e-01,\n",
       "          2.68452883e-01,  2.30480075e-01,  2.49444440e-01,\n",
       "         -1.74176078e-02, -1.95648417e-01,  2.79179931e-01,\n",
       "         -1.03489585e-01],\n",
       "        [-2.13387664e-02,  5.09971619e-01, -2.00766698e-01,\n",
       "         -3.47626060e-01,  4.24215376e-01,  4.20039505e-01,\n",
       "          2.81189203e-01,  1.74943972e-02, -4.82810587e-01,\n",
       "         -5.29392719e-01],\n",
       "        [-3.15861553e-01,  2.04092920e-01, -2.89283484e-01,\n",
       "         -3.03219885e-01, -4.83889818e-01, -7.61697441e-03,\n",
       "         -3.36619645e-01, -3.19885015e-01,  3.51871967e-01,\n",
       "          4.33252335e-01],\n",
       "        [-4.95348841e-01, -1.42316923e-01, -1.03216946e-01,\n",
       "          9.87647325e-02,  2.18805030e-01,  2.41944358e-01,\n",
       "         -5.11516333e-01, -6.38021469e-01,  2.40602642e-01,\n",
       "         -2.42376924e-02],\n",
       "        [ 2.82313049e-01,  1.64409488e-01, -1.79482803e-01,\n",
       "         -5.22469699e-01,  1.35162994e-01, -6.38312381e-03,\n",
       "         -4.41871613e-01,  3.48285139e-01, -3.26526701e-01,\n",
       "          1.92565694e-01],\n",
       "        [-1.47188574e-01,  1.22898571e-01, -9.87054482e-02,\n",
       "          1.83042228e-01,  2.15306953e-02, -9.29508954e-02,\n",
       "          1.42438784e-01,  1.57353282e-01, -5.26474379e-02,\n",
       "          1.41443327e-01],\n",
       "        [ 2.31734425e-01,  9.29316059e-02, -4.80577737e-01,\n",
       "          2.85466127e-02, -4.92586344e-01,  5.41476548e-01,\n",
       "          2.43110493e-01, -2.86243618e-01, -2.31450558e-01,\n",
       "          1.57340363e-01],\n",
       "        [ 6.84853317e-03,  1.80169046e-01,  1.87436730e-01,\n",
       "         -4.24352646e-01, -4.56263386e-02,  4.01936114e-01,\n",
       "         -5.19366026e-01, -2.58360893e-01, -3.73281330e-01,\n",
       "          2.10934728e-01],\n",
       "        [ 2.37700611e-01, -3.47257942e-01, -2.83999201e-02,\n",
       "          2.60947526e-01, -4.65883762e-01,  2.07373336e-01,\n",
       "         -9.98433381e-02, -2.66372859e-01,  2.71371096e-01,\n",
       "          1.22089677e-01],\n",
       "        [ 4.87769768e-02,  2.17632756e-01, -4.26359802e-01,\n",
       "          3.48168999e-01,  4.21099782e-01, -1.91783160e-01,\n",
       "          3.90656799e-01,  5.27894646e-02, -2.77527958e-01,\n",
       "         -3.78328115e-01],\n",
       "        [-3.77301537e-02,  1.90921873e-01, -4.94017452e-01,\n",
       "          9.77325514e-02,  4.11135167e-01,  4.43245411e-01,\n",
       "         -3.58449429e-01,  1.39133349e-01, -3.75947595e-01,\n",
       "         -2.37960592e-01],\n",
       "        [-1.78030759e-01,  7.19384551e-02, -7.58709311e-01,\n",
       "          1.07330598e-01,  1.78892240e-01,  4.17266130e-01,\n",
       "         -2.82534748e-01, -1.59624606e-01,  3.07010084e-01,\n",
       "          3.79587784e-02],\n",
       "        [-2.41377145e-01, -2.59273872e-02, -1.56570986e-01,\n",
       "         -1.80944279e-01, -4.71758135e-02,  2.55551547e-01,\n",
       "         -8.84764016e-01,  2.93448925e-01, -4.22759593e-01,\n",
       "         -1.68775931e-01]], dtype=float32),\n",
       " array([-0.06814371, -0.13354458,  0.05913385, -0.08164383, -0.0215866 ,\n",
       "         0.14588532, -0.02950281, -0.04897821,  0.1034099 , -0.00880859],\n",
       "       dtype=float32)]"
      ]
     },
     "execution_count": 26,
     "metadata": {},
     "output_type": "execute_result"
    }
   ],
   "source": [
    "model.get_weights()"
   ]
  }
 ],
 "metadata": {
  "kernelspec": {
   "display_name": "Python 3",
   "language": "python",
   "name": "python3"
  },
  "language_info": {
   "codemirror_mode": {
    "name": "ipython",
    "version": 3
   },
   "file_extension": ".py",
   "mimetype": "text/x-python",
   "name": "python",
   "nbconvert_exporter": "python",
   "pygments_lexer": "ipython3",
   "version": "3.10.0"
  }
 },
 "nbformat": 4,
 "nbformat_minor": 4
}
