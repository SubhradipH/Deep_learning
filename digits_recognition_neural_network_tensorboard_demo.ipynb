{
 "cells": [
  {
   "cell_type": "markdown",
   "metadata": {},
   "source": [
    "<h2 style=\"color:blue\" align=\"center\">Tensorboard demo using handwritten digits classification using neural network</h2>"
   ]
  },
  {
   "cell_type": "markdown",
   "metadata": {},
   "source": [
    "In this notebook we will classify handwritten digits using a simple neural network which has only input and output layers. We will than add a hidden layer and see how the performance of the model improves"
   ]
  },
  {
   "cell_type": "code",
   "execution_count": 1,
   "metadata": {},
   "outputs": [],
   "source": [
    "import tensorflow as tf\n",
    "from tensorflow import keras\n",
    "import matplotlib.pyplot as plt\n",
    "import numpy as np"
   ]
  },
  {
   "cell_type": "code",
   "execution_count": 2,
   "metadata": {},
   "outputs": [],
   "source": [
    "(X_train, y_train) , (X_test, y_test) = keras.datasets.mnist.load_data()"
   ]
  },
  {
   "cell_type": "code",
   "execution_count": 3,
   "metadata": {},
   "outputs": [
    {
     "data": {
      "text/plain": [
       "60000"
      ]
     },
     "execution_count": 3,
     "metadata": {},
     "output_type": "execute_result"
    }
   ],
   "source": [
    "len(X_train)"
   ]
  },
  {
   "cell_type": "code",
   "execution_count": 4,
   "metadata": {},
   "outputs": [
    {
     "data": {
      "text/plain": [
       "10000"
      ]
     },
     "execution_count": 4,
     "metadata": {},
     "output_type": "execute_result"
    }
   ],
   "source": [
    "len(X_test)"
   ]
  },
  {
   "cell_type": "code",
   "execution_count": 5,
   "metadata": {},
   "outputs": [
    {
     "data": {
      "text/plain": [
       "(28, 28)"
      ]
     },
     "execution_count": 5,
     "metadata": {},
     "output_type": "execute_result"
    }
   ],
   "source": [
    "X_train[0].shape"
   ]
  },
  {
   "cell_type": "code",
   "execution_count": 6,
   "metadata": {},
   "outputs": [
    {
     "data": {
      "text/plain": [
       "<matplotlib.image.AxesImage at 0x1fc78520d30>"
      ]
     },
     "execution_count": 6,
     "metadata": {},
     "output_type": "execute_result"
    },
    {
     "data": {
      "image/png": "[encoded data removed]",
      "text/plain": [
       "<Figure size 480x480 with 1 Axes>"
      ]
     },
     "metadata": {},
     "output_type": "display_data"
    }
   ],
   "source": [
    "plt.matshow(X_train[0])"
   ]
  },
  {
   "cell_type": "code",
   "execution_count": 7,
   "metadata": {},
   "outputs": [
    {
     "data": {
      "text/plain": [
       "5"
      ]
     },
     "execution_count": 7,
     "metadata": {},
     "output_type": "execute_result"
    }
   ],
   "source": [
    "y_train[0]"
   ]
  },
  {
   "cell_type": "code",
   "execution_count": 8,
   "metadata": {},
   "outputs": [],
   "source": [
    "X_train = X_train / 255\n",
    "X_test = X_test / 255"
   ]
  },
  {
   "cell_type": "code",
   "execution_count": 9,
   "metadata": {},
   "outputs": [],
   "source": [
    "X_train_flattened = X_train.reshape(len(X_train), 28*28)\n",
    "X_test_flattened = X_test.reshape(len(X_test), 28*28)"
   ]
  },
  {
   "cell_type": "code",
   "execution_count": 10,
   "metadata": {},
   "outputs": [
    {
     "data": {
      "text/plain": [
       "(60000, 784)"
      ]
     },
     "execution_count": 10,
     "metadata": {},
     "output_type": "execute_result"
    }
   ],
   "source": [
    "X_train_flattened.shape"
   ]
  },
  {
   "cell_type": "markdown",
   "metadata": {},
   "source": [
    "<h3 style='color:purple'>Using Flatten layer so that we don't have to call .reshape on input dataset</h3>"
   ]
  },
  {
   "cell_type": "code",
   "execution_count": 11,
   "metadata": {
    "scrolled": false
   },
   "outputs": [
    {
     "name": "stderr",
     "output_type": "stream",
     "text": [
      "c:\\Users\\SUBHRADIP\\AppData\\Local\\Programs\\Python\\Python310\\lib\\site-packages\\keras\\src\\layers\\reshaping\\flatten.py:37: UserWarning: Do not pass an `input_shape`/`input_dim` argument to a layer. When using Sequential models, prefer using an `Input(shape)` object as the first layer in the model instead.\n",
      "  super().__init__(**kwargs)\n"
     ]
    },
    {
     "name": "stdout",
     "output_type": "stream",
     "text": [
      "Epoch 1/5\n",
      "\u001b[1m1875/1875\u001b[0m \u001b[32m━━━━━━━━━━━━━━━━━━━━\u001b[0m\u001b[37m\u001b[0m \u001b[1m6s\u001b[0m 3ms/step - accuracy: 0.8750 - loss: 0.4428\n",
      "Epoch 2/5\n",
      "\u001b[1m1875/1875\u001b[0m \u001b[32m━━━━━━━━━━━━━━━━━━━━\u001b[0m\u001b[37m\u001b[0m \u001b[1m5s\u001b[0m 3ms/step - accuracy: 0.9614 - loss: 0.1316\n",
      "Epoch 3/5\n",
      "\u001b[1m1875/1875\u001b[0m \u001b[32m━━━━━━━━━━━━━━━━━━━━\u001b[0m\u001b[37m\u001b[0m \u001b[1m5s\u001b[0m 3ms/step - accuracy: 0.9739 - loss: 0.0876\n",
      "Epoch 4/5\n",
      "\u001b[1m1875/1875\u001b[0m \u001b[32m━━━━━━━━━━━━━━━━━━━━\u001b[0m\u001b[37m\u001b[0m \u001b[1m5s\u001b[0m 3ms/step - accuracy: 0.9786 - loss: 0.0686\n",
      "Epoch 5/5\n",
      "\u001b[1m1875/1875\u001b[0m \u001b[32m━━━━━━━━━━━━━━━━━━━━\u001b[0m\u001b[37m\u001b[0m \u001b[1m6s\u001b[0m 3ms/step - accuracy: 0.9842 - loss: 0.0516\n"
     ]
    },
    {
     "data": {
      "text/plain": [
       "<keras.src.callbacks.history.History at 0x1fc787c5f90>"
      ]
     },
     "execution_count": 11,
     "metadata": {},
     "output_type": "execute_result"
    }
   ],
   "source": [
    "model = keras.Sequential([\n",
    "    keras.layers.Flatten(input_shape=(28, 28)),\n",
    "    keras.layers.Dense(100, activation='relu'),\n",
    "    keras.layers.Dense(10, activation='sigmoid')\n",
    "])\n",
    "\n",
    "model.compile(optimizer='adam',\n",
    "              loss='sparse_categorical_crossentropy',\n",
    "              metrics=['accuracy'])\n",
    "\n",
    "tb_callback = tf.keras.callbacks.TensorBoard(log_dir=\"logs/\", histogram_freq=1)\n",
    "\n",
    "model.fit(X_train, y_train, epochs=5, callbacks=[tb_callback])"
   ]
  },
  {
   "cell_type": "code",
   "execution_count": 12,
   "metadata": {},
   "outputs": [],
   "source": [
    "#%load_ext tensorboard\n",
    "#%tensorboard --logdir logs/fit\n",
    "\n",
    "# if we use these to above command we can see the tensorboard in jupyter notebook\n",
    "\n",
    "#but if we use this command in terminal we can see the tensorboard in browser\n",
    "# tensorboard --logdir logs/ and we prefer to use this command"
   ]
  },
  {
   "cell_type": "markdown",
   "metadata": {},
   "source": [
    "Either run above inline magic or go to git bash or your command prompt and type below to run it,\n",
    "`tensorboard --logdir logs/`\n",
    "This will launch tensorboard at this url which you can open in your browser `http://localhost:6006/`"
   ]
  },
  {
   "cell_type": "code",
   "execution_count": 13,
   "metadata": {},
   "outputs": [
    {
     "data": {
      "text/plain": [
       "[array([[ 0.07634102, -0.02149901,  0.06383766, ..., -0.02890142,\n",
       "         -0.05657108,  0.02845056],\n",
       "        [-0.06124175,  0.06812942, -0.06581753, ...,  0.05586323,\n",
       "          0.04273382, -0.06577294],\n",
       "        [ 0.03688587,  0.08155504, -0.04513949, ..., -0.06237247,\n",
       "         -0.07354294,  0.05143365],\n",
       "        ...,\n",
       "        [-0.00868221, -0.05819861,  0.04923904, ...,  0.06414028,\n",
       "         -0.04698448, -0.03172911],\n",
       "        [ 0.08111706, -0.07387216, -0.04340182, ..., -0.08081502,\n",
       "          0.04420601,  0.01484827],\n",
       "        [ 0.00534957,  0.04778852, -0.0616947 , ...,  0.06010617,\n",
       "         -0.06286624,  0.00559834]], dtype=float32),\n",
       " array([-0.06908855,  0.01601085,  0.07591929, -0.04287111,  0.08024327,\n",
       "         0.01593948,  0.20458987, -0.03344809, -0.04189483, -0.11263822,\n",
       "        -0.02423336, -0.03328785,  0.0073291 ,  0.22006415,  0.00828591,\n",
       "        -0.02702038, -0.02164796, -0.04609382,  0.08441398, -0.07373191,\n",
       "        -0.07473367,  0.14927463,  0.02809508, -0.04644942,  0.01791914,\n",
       "        -0.17330256, -0.03206579,  0.05957542, -0.06507719,  0.10403489,\n",
       "         0.08331936, -0.02728819,  0.05598199, -0.02793542,  0.07006709,\n",
       "         0.02433041,  0.08081276,  0.00435489,  0.09672876, -0.1434286 ,\n",
       "         0.08375072,  0.10397723,  0.02807505,  0.15234418, -0.07828644,\n",
       "         0.07819181, -0.03089695,  0.10805658,  0.03876897,  0.07334608,\n",
       "         0.06496421, -0.08412033,  0.00795995, -0.12151891,  0.01429349,\n",
       "        -0.00528246, -0.03061534,  0.01051728, -0.0386411 ,  0.01455252,\n",
       "         0.02200394,  0.11112574, -0.11552902,  0.05514575,  0.0757743 ,\n",
       "         0.06261105, -0.08144084,  0.09733433,  0.12970252,  0.07982612,\n",
       "         0.1819671 ,  0.03897462,  0.00031258,  0.1144884 , -0.01800351,\n",
       "         0.07386596, -0.04415241,  0.00503982,  0.02521785,  0.02238112,\n",
       "         0.08094329,  0.07080217,  0.0337036 , -0.02475264, -0.04626752,\n",
       "        -0.00899812,  0.03076001,  0.04150002,  0.18559922,  0.15489905,\n",
       "        -0.00347792,  0.07019408, -0.05388051, -0.1701408 ,  0.13942876,\n",
       "        -0.06887171,  0.07957807,  0.09285007,  0.04924408,  0.00843167],\n",
       "       dtype=float32),\n",
       " array([[ 2.47378513e-01, -4.50515822e-02, -1.50841931e-02,\n",
       "          1.92043960e-01, -2.26915225e-01, -5.37879407e-01,\n",
       "         -4.75866675e-01,  1.11669414e-01,  3.83321233e-02,\n",
       "          1.22282527e-01],\n",
       "        [-4.82224584e-01,  1.88624725e-01,  8.09876323e-02,\n",
       "         -8.65330026e-02, -4.82432619e-02, -3.28651190e-01,\n",
       "         -2.13434681e-01,  1.46122083e-01,  1.88999340e-01,\n",
       "         -3.70326042e-01],\n",
       "        [-4.72053885e-01, -1.73719108e-01,  3.64151418e-01,\n",
       "         -4.86214049e-02,  1.14666618e-01, -2.68083125e-01,\n",
       "         -2.16489404e-01,  2.03436762e-01,  3.66177946e-01,\n",
       "         -3.60855050e-02],\n",
       "        [ 1.12744719e-01,  5.45949340e-02, -8.11493471e-02,\n",
       "          1.48724422e-01, -5.40800571e-01,  1.43531874e-01,\n",
       "          2.79541403e-01, -2.50066910e-02,  1.33786887e-01,\n",
       "         -1.83493987e-01],\n",
       "        [-6.35845885e-02,  6.63021347e-03,  2.08090413e-02,\n",
       "          9.24675912e-02,  1.70890078e-01,  4.94877137e-02,\n",
       "         -3.73845518e-01,  3.39288324e-01, -8.32663442e-04,\n",
       "         -2.19403626e-03],\n",
       "        [-6.48429871e-01,  2.91873097e-01,  2.60303706e-01,\n",
       "          1.85759142e-01,  4.04015444e-02,  1.84023276e-01,\n",
       "         -5.08092403e-01,  4.45516147e-02, -3.05770099e-01,\n",
       "         -3.68211120e-01],\n",
       "        [ 6.25385493e-02,  9.82050449e-02, -1.77025408e-01,\n",
       "         -5.50138317e-02,  4.51318592e-01,  2.50077676e-02,\n",
       "         -1.69457465e-01,  4.48284328e-01, -2.97605127e-01,\n",
       "         -7.78273165e-01],\n",
       "        [-2.90787429e-01, -5.11197925e-01, -1.23754367e-01,\n",
       "         -7.53061548e-02, -1.46502659e-01,  4.93864566e-02,\n",
       "         -9.46498886e-02, -1.84835598e-01,  2.64524724e-02,\n",
       "          7.12936893e-02],\n",
       "        [-1.88481122e-01, -1.34992758e-02, -1.53811067e-01,\n",
       "          2.06588686e-01,  1.25509828e-01, -2.20200680e-02,\n",
       "         -1.02599755e-01,  1.75291657e-01, -1.88508555e-01,\n",
       "          2.81750951e-02],\n",
       "        [-1.69050898e-02,  4.54877645e-01, -4.85819727e-01,\n",
       "         -3.81657511e-01,  2.61636525e-01,  3.09482682e-02,\n",
       "          4.69682485e-01, -1.76961608e-02, -3.51143748e-01,\n",
       "         -5.18594742e-01],\n",
       "        [-1.38683647e-01,  4.82238680e-01, -6.44711018e-01,\n",
       "         -3.64953168e-02, -4.84495014e-01,  3.98686618e-01,\n",
       "          2.17110813e-01,  2.27750078e-01, -5.19924648e-02,\n",
       "         -4.17568870e-02],\n",
       "        [ 2.52744645e-01, -3.51095945e-01, -2.14687541e-01,\n",
       "          1.70018435e-01, -3.73799413e-01,  1.20001629e-01,\n",
       "          1.22286901e-01, -6.02964938e-01, -3.68311256e-02,\n",
       "         -4.39569587e-03],\n",
       "        [-5.16630352e-01,  2.30567455e-01, -9.22785327e-02,\n",
       "          1.68719515e-01,  1.50800571e-01, -2.86012679e-01,\n",
       "         -2.63005346e-01, -3.66521766e-03,  1.84036061e-01,\n",
       "         -2.64764965e-01],\n",
       "        [-1.02156155e-01,  4.11008626e-01, -6.41593754e-01,\n",
       "         -6.77650571e-01, -1.41936392e-01,  2.74632484e-01,\n",
       "          6.31191768e-03,  2.78881729e-01, -3.39610249e-01,\n",
       "          8.84272754e-02],\n",
       "        [-3.43890011e-01, -2.59227395e-01, -5.41435540e-01,\n",
       "         -9.96092185e-02,  3.80363017e-01, -7.11979941e-02,\n",
       "          5.40330827e-01,  3.32753837e-01, -4.07205254e-01,\n",
       "         -2.56828338e-01],\n",
       "        [-2.41465122e-02, -4.82586801e-01, -4.56831515e-01,\n",
       "          1.19190238e-01, -6.34529471e-01,  3.39319170e-01,\n",
       "          3.71407002e-01,  3.13353360e-01, -1.40225589e-01,\n",
       "         -1.64201856e-01],\n",
       "        [ 4.75844219e-02,  2.62359828e-01, -2.92498022e-01,\n",
       "          4.28753555e-01, -5.49047709e-01,  2.45354205e-01,\n",
       "          3.01137477e-01, -2.47856706e-01, -1.28526092e-01,\n",
       "         -4.98554915e-01],\n",
       "        [ 2.26152793e-01, -1.03671513e-01,  1.98818043e-01,\n",
       "          1.27709955e-01, -8.02883089e-01,  1.61507934e-01,\n",
       "         -2.83725739e-01,  1.18607707e-01,  1.47403121e-01,\n",
       "         -6.57514930e-02],\n",
       "        [ 1.70501471e-01, -3.68094921e-01, -5.81906736e-01,\n",
       "         -1.10166982e-01, -9.25874487e-02,  4.38760698e-01,\n",
       "          1.81323349e-01, -3.77424836e-01,  2.39183620e-01,\n",
       "          6.96473494e-02],\n",
       "        [ 1.92156345e-01, -1.50805950e-01,  1.36903003e-01,\n",
       "         -1.14922583e-01, -7.85522088e-02, -1.40210152e-01,\n",
       "         -2.61643350e-01, -2.70219982e-01, -1.88764837e-02,\n",
       "          5.18455170e-03],\n",
       "        [ 2.43923083e-01, -1.60471737e-01, -1.10992879e-01,\n",
       "          7.50622377e-02,  2.86164254e-01, -1.87857747e-01,\n",
       "          3.27150702e-01, -1.31027689e-02, -6.37951851e-01,\n",
       "          2.69937545e-01],\n",
       "        [-3.75874639e-01,  1.29401594e-01,  1.45252019e-01,\n",
       "         -5.99741995e-01,  3.93623322e-01, -5.61145358e-02,\n",
       "         -5.01711443e-02,  2.48956576e-01, -4.86351669e-01,\n",
       "          1.36956289e-01],\n",
       "        [ 6.56686723e-02,  6.95006430e-01, -6.44495115e-02,\n",
       "         -3.88811499e-01,  3.30712020e-01,  3.00106347e-01,\n",
       "          1.34240657e-01,  1.84017256e-01, -3.79198641e-01,\n",
       "         -3.86532903e-01],\n",
       "        [ 7.21084550e-02, -2.40011796e-01,  1.79786056e-01,\n",
       "          2.65623122e-01, -5.83451331e-01, -3.35552514e-01,\n",
       "         -3.44795078e-01,  2.58516014e-01, -9.93063822e-02,\n",
       "          1.52811348e-01],\n",
       "        [ 1.86903626e-01, -3.66933614e-01,  1.04228184e-02,\n",
       "          2.73998708e-01, -3.13113749e-01,  1.32504761e-01,\n",
       "         -5.02771176e-02,  2.97346801e-01, -2.83545136e-01,\n",
       "         -2.89826840e-01],\n",
       "        [ 2.27526605e-01, -1.72048673e-01,  1.17850117e-01,\n",
       "          1.22400992e-01, -8.05948436e-01,  2.04199124e-02,\n",
       "          4.95069623e-02, -9.46229175e-02,  1.26785100e-01,\n",
       "         -3.74718346e-02],\n",
       "        [-7.85607025e-02, -1.56966746e-02,  1.67441905e-01,\n",
       "         -8.67154002e-02, -1.44916475e-01, -5.73258758e-01,\n",
       "         -2.08253324e-01,  1.55701399e-01,  1.49406686e-01,\n",
       "          2.70463731e-02],\n",
       "        [ 1.40351832e-01,  3.98087054e-02, -2.91565508e-02,\n",
       "         -5.44824414e-02,  4.40599546e-02,  3.16165276e-02,\n",
       "          1.61337048e-01, -3.82125914e-01,  1.00754447e-01,\n",
       "         -1.72537088e-01],\n",
       "        [-3.01856678e-02,  1.15757041e-01, -3.65702689e-01,\n",
       "         -5.13282456e-02,  1.13227904e-01, -1.48426801e-01,\n",
       "         -3.25768948e-01, -2.82857176e-02,  1.49914417e-02,\n",
       "          9.84706357e-02],\n",
       "        [ 3.87248695e-01, -4.84397411e-02,  1.72034308e-01,\n",
       "         -1.60107672e-01, -4.40259933e-01,  5.64908795e-02,\n",
       "          2.40402728e-01,  2.45144680e-01, -1.25079721e-01,\n",
       "         -3.42702627e-01],\n",
       "        [-8.58805701e-02,  1.92471758e-01,  3.35351348e-01,\n",
       "         -2.56176174e-01,  9.68173146e-02, -8.14176857e-01,\n",
       "         -5.02320290e-01, -4.48172614e-02, -6.06937334e-02,\n",
       "          1.94086641e-01],\n",
       "        [ 1.50229916e-01, -3.42248440e-01, -4.32029292e-02,\n",
       "          4.78490815e-02,  1.94710389e-01, -1.31098688e-01,\n",
       "          1.00120656e-01,  1.51475579e-01,  1.79610237e-01,\n",
       "          2.59593010e-01],\n",
       "        [-9.34743732e-02, -3.07618737e-01, -4.32103455e-01,\n",
       "          3.86869043e-01, -1.61931708e-01,  2.31166661e-01,\n",
       "         -4.09138292e-01,  6.94331676e-02, -4.96817350e-01,\n",
       "          1.00845069e-01],\n",
       "        [ 2.43907660e-01, -2.98192957e-03,  1.15197755e-01,\n",
       "         -5.80861449e-01, -4.66311127e-01, -3.26049209e-01,\n",
       "          1.10547595e-01,  6.13683350e-02, -2.68691719e-01,\n",
       "         -2.06462145e-01],\n",
       "        [-3.68608117e-01,  9.82673019e-02,  2.43542805e-01,\n",
       "         -2.03989167e-02, -1.33441493e-01,  6.24982566e-02,\n",
       "         -1.27542198e-01,  2.91701645e-01,  7.77904317e-02,\n",
       "         -9.09082234e-01],\n",
       "        [-1.24108642e-01, -3.03362429e-01, -3.10100198e-01,\n",
       "         -1.18141487e-01,  1.40319571e-01, -5.80779463e-02,\n",
       "          3.98286916e-02,  1.39436647e-01, -2.41119904e-03,\n",
       "          1.32965446e-01],\n",
       "        [-3.75423074e-01, -1.46378666e-01,  3.16552997e-01,\n",
       "         -2.37239957e-01,  2.08303988e-01,  8.15645047e-03,\n",
       "          1.91821143e-01, -4.82812405e-01, -2.57593364e-01,\n",
       "          2.94111550e-01],\n",
       "        [-2.71589577e-01, -2.71686405e-01, -1.99849159e-01,\n",
       "          3.73707600e-02,  1.56464234e-01, -2.17438787e-01,\n",
       "          6.20931201e-02, -1.80130795e-01,  2.45984748e-01,\n",
       "          3.30304019e-02],\n",
       "        [-7.55850255e-01, -4.17893291e-01,  3.58730227e-01,\n",
       "          1.90268472e-01, -2.07903519e-01,  2.59812087e-01,\n",
       "          8.27729255e-02,  2.80566901e-01,  1.13818228e-01,\n",
       "         -3.79819512e-01],\n",
       "        [ 1.53522208e-01, -1.68005839e-01, -1.23422422e-01,\n",
       "          1.36662662e-01, -1.37199864e-01,  1.37275206e-02,\n",
       "         -8.84641856e-02, -1.83017150e-01,  1.01045489e-01,\n",
       "          1.03521988e-01],\n",
       "        [-7.21048936e-02,  3.68927754e-02, -5.76473653e-01,\n",
       "         -1.38427749e-01,  2.15660125e-01,  2.66990840e-01,\n",
       "         -3.90607953e-01, -2.42315769e-01,  1.59949943e-01,\n",
       "          2.04624012e-01],\n",
       "        [ 4.59547229e-02,  1.11212969e-01,  1.94116041e-01,\n",
       "         -2.09265113e-01,  3.86068493e-01,  4.39725965e-02,\n",
       "         -2.45743707e-01,  1.78915247e-01, -6.59349620e-01,\n",
       "          1.24105379e-01],\n",
       "        [ 2.32992321e-01, -6.86736166e-01, -7.12159276e-01,\n",
       "         -2.14661345e-01,  3.40654522e-01,  3.46746802e-01,\n",
       "         -2.23909188e-02,  7.55031481e-02, -3.84188473e-01,\n",
       "         -4.03965563e-02],\n",
       "        [ 1.14046127e-01,  1.44573405e-01,  6.10317066e-02,\n",
       "         -2.96061367e-01,  2.61801481e-01,  5.32275811e-02,\n",
       "         -1.94097430e-01, -9.63547751e-02, -1.19410284e-01,\n",
       "         -2.99677163e-01],\n",
       "        [ 1.46481112e-01, -3.12960505e-01,  2.33509362e-01,\n",
       "         -2.94660807e-01,  1.04869030e-01, -4.41863418e-01,\n",
       "         -2.12895237e-02, -1.67989865e-01,  1.65257514e-01,\n",
       "          1.16886675e-01],\n",
       "        [ 3.05941164e-01,  1.56208025e-02, -3.85656238e-01,\n",
       "         -2.81769127e-01,  2.91693121e-01, -4.36861902e-01,\n",
       "          1.93715617e-01,  4.55532491e-01, -9.57578719e-02,\n",
       "         -1.02416940e-01],\n",
       "        [-1.77229986e-01,  4.98889208e-01, -1.74081057e-01,\n",
       "          3.61568600e-01,  3.41806293e-01, -8.93541932e-01,\n",
       "          4.23389545e-04,  1.19488776e-01, -3.13222408e-01,\n",
       "          2.81699765e-02],\n",
       "        [-1.23174805e-02, -8.61748531e-02,  2.01614335e-01,\n",
       "          3.41239095e-01,  1.82669491e-01,  1.76023766e-01,\n",
       "          1.01006776e-01, -2.33755544e-01, -1.53107122e-01,\n",
       "         -4.58150268e-01],\n",
       "        [-5.01129687e-01, -2.93143213e-01, -7.29297400e-02,\n",
       "         -5.49731791e-01,  1.98036715e-01,  3.99782538e-01,\n",
       "          1.48906976e-01, -3.32798332e-01,  3.22803259e-01,\n",
       "         -5.90606704e-02],\n",
       "        [-1.36693254e-01,  3.67777228e-01, -2.47417074e-02,\n",
       "         -4.52124238e-01,  3.13848734e-01, -6.28327370e-01,\n",
       "         -3.66840541e-01,  1.07167326e-01, -5.24135828e-01,\n",
       "          3.89847100e-01],\n",
       "        [ 9.49427709e-02,  2.88669229e-01, -1.08643629e-01,\n",
       "         -6.44449651e-01,  3.04536313e-01, -1.05680361e-01,\n",
       "         -3.76354814e-01,  9.74483564e-02,  2.06710547e-01,\n",
       "          3.80938232e-01],\n",
       "        [-7.73383677e-02,  2.67572552e-01,  2.98974276e-01,\n",
       "          2.49282151e-01, -2.03868568e-01, -2.06952035e-01,\n",
       "         -7.47471333e-01,  8.09642822e-02, -1.59043029e-01,\n",
       "          1.10724419e-01],\n",
       "        [ 2.28146747e-01,  6.95870072e-02, -8.51883963e-02,\n",
       "         -1.87121898e-01, -2.23141104e-01,  2.27227762e-01,\n",
       "          2.53284246e-01, -9.25383568e-02,  1.29862592e-01,\n",
       "         -2.51732506e-02],\n",
       "        [ 3.59128833e-01, -4.84707594e-01, -2.69078285e-01,\n",
       "          2.12436721e-01,  2.40758613e-01, -2.14945868e-01,\n",
       "          3.85244310e-01, -4.06407833e-01, -1.11094505e-01,\n",
       "          2.45493323e-01],\n",
       "        [-6.51287615e-01, -2.48544678e-01, -2.41776764e-01,\n",
       "          4.49108660e-01,  9.40125212e-02,  3.25539470e-01,\n",
       "         -3.64049584e-01, -3.42295676e-01,  1.53766334e-01,\n",
       "          1.89094432e-02],\n",
       "        [ 6.12722971e-02, -1.26465440e-01,  2.44828895e-01,\n",
       "          4.11707401e-01, -3.39405060e-01,  2.93019503e-01,\n",
       "         -5.92417359e-01, -5.76761663e-02, -6.39383614e-01,\n",
       "         -1.08901747e-02],\n",
       "        [ 3.47856618e-02, -2.21434698e-01,  1.02158949e-01,\n",
       "          1.64939329e-01, -1.18826926e-01,  2.98148557e-03,\n",
       "          1.23385012e-01, -3.41051817e-01,  2.47637749e-01,\n",
       "         -1.08449385e-01],\n",
       "        [ 3.16336334e-01,  3.01824391e-01, -1.68138310e-01,\n",
       "         -4.77776825e-01,  3.37099619e-02,  3.02726150e-01,\n",
       "         -3.76121223e-01,  1.62027195e-01, -1.31056592e-01,\n",
       "          1.12473786e-01],\n",
       "        [ 1.37416795e-01, -2.90524304e-01,  2.78378695e-01,\n",
       "          1.82200268e-01, -3.62180740e-01,  2.23332524e-01,\n",
       "         -1.51831448e-01, -1.92136392e-01,  2.27570564e-01,\n",
       "         -2.34442160e-01],\n",
       "        [ 7.00137690e-02, -4.02073562e-01,  2.24981993e-01,\n",
       "          3.47810149e-01,  1.74996823e-01, -1.27569184e-01,\n",
       "         -1.07250176e-01, -6.96822107e-02, -3.01823676e-01,\n",
       "         -2.46562913e-01],\n",
       "        [-1.47008717e-01, -1.38268635e-01,  3.51607054e-02,\n",
       "         -1.36391580e-01, -1.36976659e-01,  1.32083297e-01,\n",
       "         -9.20104384e-02, -3.07882935e-01,  2.23196238e-01,\n",
       "         -2.03056987e-02],\n",
       "        [ 2.02354178e-01, -4.17526841e-01, -4.92406031e-03,\n",
       "         -9.07964632e-02,  1.96482450e-01, -6.98934048e-02,\n",
       "         -3.53258848e-01,  1.78589612e-01,  1.17260650e-01,\n",
       "          1.84633672e-01],\n",
       "        [ 1.74027637e-01,  9.63685066e-02,  8.97342637e-02,\n",
       "          2.03968152e-01, -3.80018294e-01, -2.37500876e-01,\n",
       "          2.12243646e-01, -2.31694475e-01, -8.06534067e-02,\n",
       "          1.37629181e-01],\n",
       "        [-3.65958720e-01, -3.00722182e-01, -4.51209068e-01,\n",
       "          2.23416299e-01,  7.09647089e-02, -1.45564348e-01,\n",
       "         -4.04454261e-01,  3.28680724e-01, -6.88665211e-01,\n",
       "          1.17528215e-01],\n",
       "        [ 1.12089723e-01,  9.71489772e-02,  4.79594976e-01,\n",
       "         -8.14047530e-02, -4.21617985e-01,  9.59618464e-02,\n",
       "          9.19269547e-02,  1.95840225e-01, -7.37981737e-01,\n",
       "         -7.21104860e-01],\n",
       "        [-8.35728168e-01,  1.38260901e-01, -4.64479923e-01,\n",
       "          9.41006169e-02,  3.43405992e-01,  1.87072754e-01,\n",
       "         -5.09796798e-01, -3.52955312e-01,  2.55092412e-01,\n",
       "          1.49492826e-02],\n",
       "        [ 5.91415912e-02, -3.77368145e-02, -3.31224382e-01,\n",
       "          1.54963523e-01, -3.99577349e-01, -6.78089038e-02,\n",
       "         -1.52130231e-01,  9.45706517e-02,  7.31026009e-02,\n",
       "         -6.97617931e-03],\n",
       "        [-3.69254798e-01,  2.59764463e-01,  2.13240206e-01,\n",
       "         -6.93745255e-01, -3.30012739e-01,  2.60536764e-02,\n",
       "          2.90947378e-01, -2.64056534e-01, -2.19264492e-01,\n",
       "          3.98791164e-01],\n",
       "        [ 1.80174485e-01, -1.88085213e-01,  1.33296147e-01,\n",
       "         -3.15856338e-01,  3.73627692e-02,  1.32536143e-01,\n",
       "          3.20858598e-01, -3.98013145e-01,  3.86583060e-02,\n",
       "         -1.69600591e-01],\n",
       "        [ 6.84325621e-02,  3.74840908e-02,  1.46943182e-01,\n",
       "         -3.10608208e-01, -4.64750733e-03,  1.95150942e-01,\n",
       "          3.64116788e-01,  2.34838650e-02,  1.80710956e-01,\n",
       "         -7.63911068e-01],\n",
       "        [-5.00328257e-04, -4.26033497e-01,  1.31790144e-02,\n",
       "         -1.84252024e-01, -8.49492669e-01,  7.05054522e-01,\n",
       "         -2.34309763e-01,  4.08086479e-01, -8.15850347e-02,\n",
       "         -1.80723801e-01],\n",
       "        [-2.34673813e-01,  1.58940628e-01,  1.74428374e-01,\n",
       "          1.19316943e-01,  5.59916139e-01,  8.04658383e-02,\n",
       "          9.78556834e-03, -2.19568118e-01,  4.10089009e-02,\n",
       "         -5.55416107e-01],\n",
       "        [-3.39352429e-01, -2.48386815e-01,  1.24822967e-01,\n",
       "          2.78643109e-02, -1.06235838e+00,  2.39473954e-01,\n",
       "         -3.65444779e-01,  4.13967222e-01, -1.00621268e-01,\n",
       "         -1.38401210e-01],\n",
       "        [-2.46036351e-01, -3.24463904e-01, -2.55057774e-02,\n",
       "          1.29137382e-01, -1.28292143e-01,  3.51507217e-02,\n",
       "         -8.73562157e-01,  2.68799305e-01, -2.30521202e-01,\n",
       "          1.97248966e-01],\n",
       "        [ 1.21833146e-01,  2.08294168e-01,  1.90755606e-01,\n",
       "         -3.83802444e-01,  1.57848105e-01, -3.17992121e-01,\n",
       "          1.24145553e-01, -1.91394150e-01,  9.39456001e-02,\n",
       "         -1.07635120e-02],\n",
       "        [-8.83406624e-02,  1.81851506e-01,  1.91730931e-01,\n",
       "         -1.14846587e-01,  5.81017882e-02,  8.70324895e-02,\n",
       "          3.87162864e-01,  3.46501052e-01,  2.34928221e-01,\n",
       "         -6.21825814e-01],\n",
       "        [-2.20453992e-01, -2.46515144e-02, -5.91999531e-01,\n",
       "          1.56434089e-01, -2.18592033e-01,  3.61416414e-02,\n",
       "         -3.64436656e-02, -3.77204657e-01,  2.26082623e-01,\n",
       "          3.01985115e-01],\n",
       "        [-1.82200468e-03,  2.56611228e-01,  2.52283990e-01,\n",
       "          2.86683381e-01, -1.48191810e-01, -8.20241690e-01,\n",
       "          1.70490846e-01,  6.09017611e-02,  1.76176354e-02,\n",
       "         -8.54687169e-02],\n",
       "        [-3.73161614e-01, -2.28101581e-01, -2.07107931e-01,\n",
       "          2.39669770e-01,  1.92022413e-01,  2.59512961e-01,\n",
       "         -5.08904278e-01,  2.28855625e-01, -2.80005503e-02,\n",
       "          2.56368935e-01],\n",
       "        [-4.18488264e-01,  5.14047146e-01, -3.00348490e-01,\n",
       "         -3.92572641e-01, -2.75777020e-02, -2.49264687e-01,\n",
       "         -2.24753529e-01,  3.49074900e-01, -3.92785907e-01,\n",
       "          1.35505453e-01],\n",
       "        [ 1.37738764e-01, -2.44177222e-01,  3.70528817e-01,\n",
       "         -3.36050779e-01,  2.01593991e-02, -4.61597770e-01,\n",
       "          1.73077762e-01,  1.56096146e-01, -1.81315318e-01,\n",
       "          9.52894241e-02],\n",
       "        [-5.03750086e-01,  1.51862875e-01, -4.80968893e-01,\n",
       "          1.21925429e-01,  2.10409328e-01,  2.91533560e-01,\n",
       "          2.16461435e-01, -5.46110868e-01,  2.42290258e-01,\n",
       "          6.28695637e-02],\n",
       "        [ 4.78461944e-02,  1.77512437e-01,  2.56770700e-01,\n",
       "         -5.21178804e-02,  1.24727137e-01, -1.36148214e-01,\n",
       "          1.77375689e-01, -2.74906933e-01,  2.08915416e-02,\n",
       "         -7.42843628e-01],\n",
       "        [-5.00405490e-01, -1.15645766e-01, -1.18083239e-01,\n",
       "          3.86634052e-01, -3.39819908e-01,  5.19702315e-01,\n",
       "         -5.77780604e-01, -5.34563363e-01, -8.03971350e-01,\n",
       "          2.59984434e-01],\n",
       "        [-4.98998553e-01,  1.35905206e-01, -2.87058383e-01,\n",
       "          2.14969322e-01, -5.65405861e-02,  2.79081672e-01,\n",
       "         -1.65458724e-01, -5.95025897e-01,  3.32469851e-01,\n",
       "          1.51625529e-01],\n",
       "        [-5.39773226e-01,  1.30930185e-01,  1.62761677e-02,\n",
       "          3.22815835e-01,  4.61211920e-01, -7.29062200e-01,\n",
       "         -6.16229653e-01,  3.90407816e-02, -1.07356809e-01,\n",
       "         -4.36653048e-01],\n",
       "        [ 8.14614296e-02, -3.52205575e-01, -2.37809837e-01,\n",
       "         -6.48505628e-01,  4.72783260e-02, -1.80771008e-01,\n",
       "         -7.49196857e-02, -2.06068248e-01, -4.70662937e-02,\n",
       "         -5.97785488e-02],\n",
       "        [-6.04488194e-01,  3.66632849e-01,  2.97735214e-01,\n",
       "          4.82131578e-02, -1.44793466e-01,  3.24151039e-01,\n",
       "         -7.44285405e-01,  6.20820783e-02, -3.04590076e-01,\n",
       "         -1.89648136e-01],\n",
       "        [-3.05139124e-01,  1.19148374e-01,  5.39838552e-01,\n",
       "         -9.40993205e-02, -3.55795324e-02,  4.46862012e-01,\n",
       "         -8.88007283e-02, -7.59464025e-01, -2.83889204e-01,\n",
       "          2.14991927e-01],\n",
       "        [-2.84279168e-01,  1.68730646e-01,  1.57619670e-01,\n",
       "          3.27218890e-01, -4.55874085e-01, -1.10256523e-01,\n",
       "         -4.69811827e-01,  5.02988875e-01, -3.82083625e-01,\n",
       "         -3.13233852e-01],\n",
       "        [-1.52970165e-01, -5.11069666e-04,  1.22559540e-01,\n",
       "          1.20374307e-01, -1.94559321e-01, -9.41623524e-02,\n",
       "          8.74255598e-02, -2.04309627e-01,  1.00713469e-01,\n",
       "         -1.12322427e-01],\n",
       "        [-2.25826591e-01, -2.89084613e-01,  2.77834386e-03,\n",
       "         -3.20897073e-01,  1.52050838e-01, -6.55883327e-02,\n",
       "          2.22500041e-01, -1.68256581e-01,  2.10011438e-01,\n",
       "          8.56789201e-02],\n",
       "        [ 1.09886453e-01, -3.31218630e-01, -2.61543185e-01,\n",
       "         -4.78414029e-01, -9.83574092e-02,  4.20188010e-02,\n",
       "         -8.19703341e-02, -1.45981774e-01, -3.50959823e-02,\n",
       "          2.36361891e-01],\n",
       "        [ 3.19350004e-01, -4.75931913e-01,  2.04622015e-01,\n",
       "          2.13385135e-01, -4.81708199e-01, -5.02874374e-01,\n",
       "         -2.69863099e-01,  3.28260176e-02,  1.07350230e-01,\n",
       "          3.52890551e-01],\n",
       "        [-2.73340344e-01,  5.97195327e-02,  1.43778592e-01,\n",
       "         -6.86405599e-02, -7.43892491e-02,  1.26281053e-01,\n",
       "          1.70041680e-01, -1.23451436e-02,  1.45033166e-01,\n",
       "         -5.88668823e-01],\n",
       "        [ 4.36824888e-01, -4.20761555e-01,  6.75728545e-02,\n",
       "          1.58519343e-01, -5.96189201e-01, -2.23236695e-01,\n",
       "          3.86683792e-01, -3.18004936e-01,  8.98476020e-02,\n",
       "          2.50159234e-01],\n",
       "        [-5.80795228e-01,  2.74855435e-01,  2.73172140e-01,\n",
       "         -1.31710142e-01, -2.51138210e-01,  5.82166277e-02,\n",
       "          1.37205794e-01, -4.58065182e-01,  1.34215847e-01,\n",
       "          2.49512658e-01],\n",
       "        [-3.17022115e-01, -6.45409763e-01, -2.63354033e-01,\n",
       "         -3.84995013e-01, -3.81991595e-01,  3.42330635e-01,\n",
       "          3.89910758e-01,  2.86232710e-01, -2.16235090e-02,\n",
       "          6.62661344e-02],\n",
       "        [-6.87007159e-02,  1.65799752e-01,  1.22513324e-01,\n",
       "          5.58780693e-02, -2.90587246e-01, -5.13035581e-02,\n",
       "         -1.62036836e-01, -4.51915741e-01,  3.38998400e-02,\n",
       "          3.45064759e-01],\n",
       "        [ 2.87535429e-01,  4.85248148e-01,  3.43313307e-01,\n",
       "         -1.98804170e-01,  1.10454366e-01, -1.99969262e-01,\n",
       "         -1.00360801e-02, -3.33553962e-02, -7.39173055e-01,\n",
       "          2.33218089e-01]], dtype=float32),\n",
       " array([-0.11988212, -0.01625992,  0.04979945, -0.08057386,  0.07485694,\n",
       "         0.0743693 , -0.09861116,  0.01703717,  0.07955662, -0.04778409],\n",
       "       dtype=float32)]"
      ]
     },
     "execution_count": 13,
     "metadata": {},
     "output_type": "execute_result"
    }
   ],
   "source": [
    "model.get_weights()"
   ]
  }
 ],
 "metadata": {
  "kernelspec": {
   "display_name": "Python 3",
   "language": "python",
   "name": "python3"
  },
  "language_info": {
   "codemirror_mode": {
    "name": "ipython",
    "version": 3
   },
   "file_extension": ".py",
   "mimetype": "text/x-python",
   "name": "python",
   "nbconvert_exporter": "python",
   "pygments_lexer": "ipython3",
   "version": "3.10.0"
  }
 },
 "nbformat": 4,
 "nbformat_minor": 4
}
